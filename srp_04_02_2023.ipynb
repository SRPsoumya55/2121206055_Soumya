{
  "nbformat": 4,
  "nbformat_minor": 0,
  "metadata": {
    "colab": {
      "provenance": [],
      "authorship_tag": "ABX9TyNG41lbEbhNEqEMgCShCyXL",
      "include_colab_link": true
    },
    "kernelspec": {
      "name": "python3",
      "display_name": "Python 3"
    },
    "language_info": {
      "name": "python"
    }
  },
  "cells": [
    {
      "cell_type": "markdown",
      "metadata": {
        "id": "view-in-github",
        "colab_type": "text"
      },
      "source": [
        "<a href=\"https://colab.research.google.com/github/SRPsoumya55/2121206055_Soumya/blob/main/srp_04_02_2023.ipynb\" target=\"_parent\"><img src=\"https://colab.research.google.com/assets/colab-badge.svg\" alt=\"Open In Colab\"/></a>"
      ]
    },
    {
      "cell_type": "code",
      "execution_count": null,
      "metadata": {
        "colab": {
          "base_uri": "https://localhost:8080/"
        },
        "id": "qK9NC-qusO_5",
        "outputId": "90ffc38c-a2a8-4160-a452-91fd8e26256d"
      },
      "outputs": [
        {
          "output_type": "stream",
          "name": "stdout",
          "text": [
            "a/b= 2.5\n",
            "a//b= 2\n",
            "a**b= 25\n",
            "a<b= False\n",
            "a>b= True\n"
          ]
        }
      ],
      "source": [
        "#using arithmatic operators and comparision operators.\n",
        "a=5\n",
        "b=2\n",
        "print('a/b=',a/b)\n",
        "print('a//b=',a//b)\n",
        "print('a**b=',a**b)\n",
        "print('a<b=',a<b)\n",
        "print('a>b=',a>b)"
      ]
    },
    {
      "cell_type": "code",
      "source": [
        "#using logical operators\n",
        "a=True\n",
        "print('not A=',not a)\n",
        "b=False\n",
        "print('not B=',not b)"
      ],
      "metadata": {
        "colab": {
          "base_uri": "https://localhost:8080/"
        },
        "id": "hgB470NQvAMN",
        "outputId": "a1717ac2-5e94-4278-cf13-3138d301cb7a"
      },
      "execution_count": null,
      "outputs": [
        {
          "output_type": "stream",
          "name": "stdout",
          "text": [
            "not A= False\n",
            "not B= True\n"
          ]
        }
      ]
    },
    {
      "cell_type": "code",
      "source": [
        "a=2\n",
        "b=3\n",
        "a<<b"
      ],
      "metadata": {
        "colab": {
          "base_uri": "https://localhost:8080/"
        },
        "id": "5iCgocfkwjSz",
        "outputId": "e1658f3a-e350-4c5c-d701-932e50487608"
      },
      "execution_count": null,
      "outputs": [
        {
          "output_type": "execute_result",
          "data": {
            "text/plain": [
              "16"
            ]
          },
          "metadata": {},
          "execution_count": 8
        }
      ]
    },
    {
      "cell_type": "code",
      "source": [
        "#using IDENTITY OPERATOR(is nad is not).\n",
        "a=5\n",
        "b=5\n",
        "print('a is b',a is b)\n",
        "print('a is not b',a is not b)\n",
        "x='CSE'\n",
        "y='ECE'\n",
        "print('x is y',x is y)\n",
        "print('a is not y',x is not y)"
      ],
      "metadata": {
        "colab": {
          "base_uri": "https://localhost:8080/"
        },
        "id": "UCuIFUdTyxyO",
        "outputId": "976b881c-7bf9-4bcd-9ee6-7a54ec80be70"
      },
      "execution_count": null,
      "outputs": [
        {
          "output_type": "stream",
          "name": "stdout",
          "text": [
            "a is b True\n",
            "a is not b False\n",
            "x is y False\n",
            "a is not y True\n"
          ]
        }
      ]
    },
    {
      "cell_type": "code",
      "source": [
        "#using membership operator (in and not in)\n",
        "a= 'Hello ECE'\n",
        "print('A in a =',a in 'A')\n",
        "print('a in A =','H' in a)"
      ],
      "metadata": {
        "colab": {
          "base_uri": "https://localhost:8080/"
        },
        "id": "gwZ3iTGV0H-H",
        "outputId": "66e77f26-0262-4a7d-8139-133de7219541"
      },
      "execution_count": null,
      "outputs": [
        {
          "output_type": "stream",
          "name": "stdout",
          "text": [
            "A in a = False\n",
            "a in A = True\n"
          ]
        }
      ]
    },
    {
      "cell_type": "code",
      "source": [
        "#using if and else statement\n",
        "num= int(input(\"enter the number?\"))\n",
        "if num%2==0:\n",
        "  print(\"Number is even\")\n",
        "else:\n",
        "   print(\"Number is odd\")\n",
        "  "
      ],
      "metadata": {
        "colab": {
          "base_uri": "https://localhost:8080/"
        },
        "id": "kgzvsQFx1PrU",
        "outputId": "d48f339a-1573-4486-c649-82ed1922a2b0"
      },
      "execution_count": null,
      "outputs": [
        {
          "output_type": "stream",
          "name": "stdout",
          "text": [
            "enter the number?5\n",
            "Number is odd\n"
          ]
        }
      ]
    },
    {
      "cell_type": "code",
      "source": [
        "#using if..elif statement\n",
        "number=int(input(\"Enter the number?\"))\n",
        "if number==10:\n",
        "  print(\"number is equal to 10\")\n",
        "elif number ==50:\n",
        "   print(\"number is equal to 50\")\n",
        "elif number==100:\n",
        "   print(\"number is equal to 100\")\n",
        "else:\n",
        "   print(\"number is not equal to 10,or 100\")     \n"
      ],
      "metadata": {
        "colab": {
          "base_uri": "https://localhost:8080/"
        },
        "id": "YXOF2Ym93NV7",
        "outputId": "910f6670-fe2e-46d6-db0e-7114499a9b87"
      },
      "execution_count": null,
      "outputs": [
        {
          "output_type": "stream",
          "name": "stdout",
          "text": [
            "Enter the number?50\n",
            "number is equal to 50\n"
          ]
        }
      ]
    }
  ]
}